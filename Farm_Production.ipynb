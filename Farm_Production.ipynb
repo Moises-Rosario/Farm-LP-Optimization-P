{
  "nbformat": 4,
  "nbformat_minor": 0,
  "metadata": {
    "colab": {
      "provenance": []
    },
    "kernelspec": {
      "name": "python3",
      "display_name": "Python 3"
    },
    "language_info": {
      "name": "python"
    }
  },
  "cells": [
    {
      "cell_type": "code",
      "execution_count": 1,
      "metadata": {
        "colab": {
          "base_uri": "https://localhost:8080/"
        },
        "id": "LpBoIhCbnURc",
        "outputId": "7e7af8e3-3f36-4f48-cf54-373967030397"
      },
      "outputs": [
        {
          "output_type": "stream",
          "name": "stdout",
          "text": [
            "Collecting cplex\n",
            "  Downloading cplex-22.1.2.0-cp311-cp311-manylinux2014_x86_64.whl.metadata (56 kB)\n",
            "\u001b[?25l     \u001b[90m━━━━━━━━━━━━━━━━━━━━━━━━━━━━━━━━━━━━━━━━\u001b[0m \u001b[32m0.0/57.0 kB\u001b[0m \u001b[31m?\u001b[0m eta \u001b[36m-:--:--\u001b[0m\r\u001b[2K     \u001b[90m━━━━━━━━━━━━━━━━━━━━━━━━━━━━━━━━━━━━━━━━\u001b[0m \u001b[32m57.0/57.0 kB\u001b[0m \u001b[31m2.3 MB/s\u001b[0m eta \u001b[36m0:00:00\u001b[0m\n",
            "\u001b[?25hDownloading cplex-22.1.2.0-cp311-cp311-manylinux2014_x86_64.whl (44.3 MB)\n",
            "\u001b[2K   \u001b[90m━━━━━━━━━━━━━━━━━━━━━━━━━━━━━━━━━━━━━━━━\u001b[0m \u001b[32m44.3/44.3 MB\u001b[0m \u001b[31m16.4 MB/s\u001b[0m eta \u001b[36m0:00:00\u001b[0m\n",
            "\u001b[?25hInstalling collected packages: cplex\n",
            "Successfully installed cplex-22.1.2.0\n",
            "Collecting docplex\n",
            "  Downloading docplex-2.29.241.tar.gz (645 kB)\n",
            "\u001b[2K     \u001b[90m━━━━━━━━━━━━━━━━━━━━━━━━━━━━━━━━━━━━━━━━\u001b[0m \u001b[32m645.5/645.5 kB\u001b[0m \u001b[31m8.5 MB/s\u001b[0m eta \u001b[36m0:00:00\u001b[0m\n",
            "\u001b[?25h  Installing build dependencies ... \u001b[?25l\u001b[?25hdone\n",
            "  Getting requirements to build wheel ... \u001b[?25l\u001b[?25hdone\n",
            "  Installing backend dependencies ... \u001b[?25l\u001b[?25hdone\n",
            "  Preparing metadata (pyproject.toml) ... \u001b[?25l\u001b[?25hdone\n",
            "Requirement already satisfied: six in /usr/local/lib/python3.11/dist-packages (from docplex) (1.17.0)\n",
            "Building wheels for collected packages: docplex\n",
            "  Building wheel for docplex (pyproject.toml) ... \u001b[?25l\u001b[?25hdone\n",
            "  Created wheel for docplex: filename=docplex-2.29.241-py3-none-any.whl size=685423 sha256=63017a9a1c0224ec2828f04f0e52678613960b2774196fd638f9295674c65885\n",
            "  Stored in directory: /root/.cache/pip/wheels/00/4f/37/fbc42df1f9b6786024d4b39c81f0b373c84e6fab9e18513fc2\n",
            "Successfully built docplex\n",
            "Installing collected packages: docplex\n",
            "Successfully installed docplex-2.29.241\n"
          ]
        }
      ],
      "source": [
        "!pip install cplex\n",
        "!pip install docplex\n",
        "from docplex.mp.model import Model"
      ]
    },
    {
      "cell_type": "code",
      "source": [
        "LP_model= Model(name=\"Farm Production\")\n"
      ],
      "metadata": {
        "id": "L_ppaVrtnghR"
      },
      "execution_count": 2,
      "outputs": []
    },
    {
      "cell_type": "code",
      "source": [
        "W= LP_model.continuous_var(name=\"Wheat Acres\")\n",
        "C= LP_model.continuous_var(name=\"Corn Acres\")\n"
      ],
      "metadata": {
        "id": "RvVrNQp1nklx"
      },
      "execution_count": 3,
      "outputs": []
    },
    {
      "cell_type": "code",
      "source": [
        "# Labor required per acre\n",
        "labor_W = 3  # Wheat requires 3 worker-hours per acre\n",
        "labor_C = 2  # Corn requires 2 worker-hours per acre\n",
        "\n",
        "# Water required per acre\n",
        "water_W = 4  # Wheat requires 4 units of water per acre\n",
        "water_C = 6  # Corn requires 6 units of water per acre\n"
      ],
      "metadata": {
        "id": "dQcIxPx1nnJx"
      },
      "execution_count": 4,
      "outputs": []
    },
    {
      "cell_type": "code",
      "source": [
        "calories= LP_model.add_constraint(LP_model.sum( W + C <=100))\n"
      ],
      "metadata": {
        "id": "XXCQ3W-anp2p"
      },
      "execution_count": 5,
      "outputs": []
    },
    {
      "cell_type": "code",
      "source": [
        "land = LP_model.add_constraint(3*W + 2*C <= 240)\n"
      ],
      "metadata": {
        "id": "KWqL2XxlntxJ"
      },
      "execution_count": 12,
      "outputs": []
    },
    {
      "cell_type": "code",
      "source": [
        "water = LP_model.add_constraint(4*W + 6*C <= 400)\n"
      ],
      "metadata": {
        "id": "3wTspj9EnuCH"
      },
      "execution_count": 7,
      "outputs": []
    },
    {
      "cell_type": "code",
      "source": [
        "LP_model.maximize(200*W + 300*C)\n"
      ],
      "metadata": {
        "id": "8z6Ihv-jn0Ap"
      },
      "execution_count": 8,
      "outputs": []
    },
    {
      "cell_type": "code",
      "source": [
        "LP_model.print_information()\n"
      ],
      "metadata": {
        "colab": {
          "base_uri": "https://localhost:8080/"
        },
        "id": "2n9RzcKln2la",
        "outputId": "f2d7e16a-713e-4b4e-973f-5f8559ee1710"
      },
      "execution_count": 9,
      "outputs": [
        {
          "output_type": "stream",
          "name": "stdout",
          "text": [
            "Model: Farm Production\n",
            " - number of variables: 2\n",
            "   - binary=0, integer=0, continuous=2\n",
            " - number of constraints: 3\n",
            "   - linear=3\n",
            " - parameters: defaults\n",
            " - objective: maximize\n",
            " - problem type is: LP\n"
          ]
        }
      ]
    },
    {
      "cell_type": "code",
      "source": [
        "sol= LP_model.solve()"
      ],
      "metadata": {
        "id": "DctCCnoDn9dy"
      },
      "execution_count": 10,
      "outputs": []
    },
    {
      "cell_type": "code",
      "source": [
        "sol.display()\n"
      ],
      "metadata": {
        "colab": {
          "base_uri": "https://localhost:8080/"
        },
        "id": "WZbpaGD8n_17",
        "outputId": "49b1f7cd-9db9-48f1-e61f-4247ccbd9eb1"
      },
      "execution_count": 11,
      "outputs": [
        {
          "output_type": "stream",
          "name": "stdout",
          "text": [
            "solution for: Farm Production\n",
            "objective: 20000.000\n",
            "status: OPTIMAL_SOLUTION(2)\n",
            "Corn Acres = 66.667\n"
          ]
        }
      ]
    }
  ]
}